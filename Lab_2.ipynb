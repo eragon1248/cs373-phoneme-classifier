{
 "cells": [
  {
   "cell_type": "code",
   "execution_count": 5,
   "metadata": {},
   "outputs": [
    {
     "name": "stdout",
     "output_type": "stream",
     "text": [
      "Epoch 0 running...\n",
      "Validation accuracy: 49 %\n",
      "Epoch 1 running...\n",
      "Validation accuracy: 54 %\n",
      "Epoch 2 running...\n",
      "Validation accuracy: 58 %\n",
      "Epoch 3 running...\n",
      "Validation accuracy: 59 %\n",
      "Epoch 4 running...\n",
      "Validation accuracy: 61 %\n",
      "Epoch 5 running...\n",
      "Validation accuracy: 62 %\n",
      "Epoch 6 running...\n",
      "Validation accuracy: 63 %\n",
      "Epoch 7 running...\n",
      "Validation accuracy: 64 %\n",
      "Epoch 8 running...\n",
      "Validation accuracy: 64 %\n",
      "Epoch 9 running...\n",
      "Validation accuracy: 64 %\n",
      "Test accuracy: 60 %\n"
     ]
    }
   ],
   "source": [
    "# import numpy as np\n",
    "# import torch\n",
    "# import torch.nn as nn\n",
    "# import torch.nn.functional as F\n",
    "# import torch.optim as optim\n",
    "\n",
    "# Set up the dataloaders\n",
    "train_dataset = torch.utils.data.TensorDataset(train_feats, train_labels)\n",
    "train_loader = torch.utils.data.DataLoader(train_dataset, batch_size=8, shuffle=True)\n",
    "\n",
    "# Split the training data into training and validation sets\n",
    "train_size = int(0.8 * len(train_dataset))\n",
    "val_size = len(train_dataset) - train_size\n",
    "train_dataset, val_dataset = torch.utils.data.random_split(train_dataset, [train_size, val_size])\n",
    "\n",
    "train_loader = torch.utils.data.DataLoader(train_dataset, batch_size=8, shuffle=True)\n",
    "val_loader = torch.utils.data.DataLoader(val_dataset, batch_size=8, shuffle=False)\n",
    "\n",
    "test_dataset = torch.utils.data.TensorDataset(test_feats, test_labels)\n",
    "test_loader = torch.utils.data.DataLoader(test_dataset, batch_size=8, shuffle=False)\n",
    "\n",
    "# Train and validate the model\n",
    "def train_network(model, train_loader, val_loader, criterion, optimizer):\n",
    "    numEpochs = 10\n",
    "    for epoch in range(numEpochs):\n",
    "        print('Epoch', epoch, 'running...')\n",
    "        \n",
    "        # Train the model\n",
    "        model.train()\n",
    "        for i, (inputs, labels) in enumerate(train_loader, 0):\n",
    "            optimizer.zero_grad()\n",
    "            outputs = model(inputs)\n",
    "            loss = criterion(outputs, labels)\n",
    "            loss.backward()\n",
    "            optimizer.step()\n",
    "        \n",
    "        # Validate the model\n",
    "        model.eval()\n",
    "        correct = 0\n",
    "        total = 0\n",
    "        with torch.no_grad():\n",
    "            for data in val_loader:\n",
    "                inputs, labels = data\n",
    "                outputs = model(inputs)\n",
    "                _, predicted = torch.max(outputs.data, 1)\n",
    "                total += labels.size(0)\n",
    "                correct += (predicted == labels).sum().item()\n",
    "        print('Validation accuracy: %d %%' % (100 * correct / total))\n",
    "\n",
    "# Instantiate the model, loss function, and optimizer\n",
    "model = MyModel()\n",
    "model = model.to(device)\n",
    "criterion = nn.CrossEntropyLoss()\n",
    "optimizer = optim.SGD(model.parameters(), lr=0.001, momentum=0.9)\n",
    "\n",
    "train_network(model, train_loader, val_loader, criterion, optimizer)\n",
    "test_network(model, test_loader)\n"
   ]
  }
 ],
 "metadata": {
  "kernelspec": {
   "display_name": "base",
   "language": "python",
   "name": "python3"
  },
  "language_info": {
   "codemirror_mode": {
    "name": "ipython",
    "version": 3
   },
   "file_extension": ".py",
   "mimetype": "text/x-python",
   "name": "python",
   "nbconvert_exporter": "python",
   "pygments_lexer": "ipython3",
   "version": "3.9.13"
  },
  "vscode": {
   "interpreter": {
    "hash": "d1e94e95c99f24e1423618780c4269132efbd24ef60d827720c936a6c6fa146b"
   }
  }
 },
 "nbformat": 4,
 "nbformat_minor": 4
}
